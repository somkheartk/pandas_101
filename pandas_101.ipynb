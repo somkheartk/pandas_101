{
  "nbformat": 4,
  "nbformat_minor": 0,
  "metadata": {
    "colab": {
      "name": "pandas_101.ipynb",
      "provenance": [],
      "authorship_tag": "ABX9TyOLFq00Covd42tM4+95ggZV",
      "include_colab_link": true
    },
    "kernelspec": {
      "name": "python3",
      "display_name": "Python 3"
    }
  },
  "cells": [
    {
      "cell_type": "markdown",
      "metadata": {
        "id": "view-in-github",
        "colab_type": "text"
      },
      "source": [
        "<a href=\"https://colab.research.google.com/github/somkheartk/pandas_101/blob/main/pandas_101.ipynb\" target=\"_parent\"><img src=\"https://colab.research.google.com/assets/colab-badge.svg\" alt=\"Open In Colab\"/></a>"
      ]
    },
    {
      "cell_type": "code",
      "metadata": {
        "colab": {
          "base_uri": "https://localhost:8080/"
        },
        "id": "RjtXLWmY0AUu",
        "outputId": "1ab0455c-3c43-4d82-a24d-c1253816dacc"
      },
      "source": [
        "import pandas\r\n",
        "\r\n",
        "mydataset = {\r\n",
        "  'cars': [\"BMW\", \"Volvo\", \"Ford\"],\r\n",
        "  'passings': [3, 7, 2]\r\n",
        "}\r\n",
        "\r\n",
        "myvar = pandas.DataFrame(mydataset)\r\n",
        "\r\n",
        "print(myvar)"
      ],
      "execution_count": null,
      "outputs": [
        {
          "output_type": "stream",
          "text": [
            "    cars  passings\n",
            "0    BMW         3\n",
            "1  Volvo         7\n",
            "2   Ford         2\n"
          ],
          "name": "stdout"
        }
      ]
    },
    {
      "cell_type": "code",
      "metadata": {
        "id": "58zK4Ani1FfQ"
      },
      "source": [
        ""
      ],
      "execution_count": null,
      "outputs": []
    }
  ]
}